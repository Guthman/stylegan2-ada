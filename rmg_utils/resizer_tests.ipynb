{
 "cells": [
  {
   "cell_type": "code",
   "execution_count": 1,
   "metadata": {
    "collapsed": true
   },
   "outputs": [],
   "source": [
    "from PIL import Image"
   ]
  },
  {
   "cell_type": "code",
   "execution_count": 8,
   "outputs": [],
   "source": [
    "desired_size = 256\n",
    "im_pth = r'C:\\Users\\R\\PycharmProjects\\Thesis_Saatchi_scraper\\micro_dataset1\\7562329_7562329_851959_6631041-WNVLVCYB-7.jpg'"
   ],
   "metadata": {
    "collapsed": false,
    "pycharm": {
     "name": "#%%\n"
    }
   }
  },
  {
   "cell_type": "code",
   "execution_count": 9,
   "outputs": [],
   "source": [
    "im = Image.open(im_pth)\n",
    "old_size = im.size  # old_size[0] is in (width, height) format"
   ],
   "metadata": {
    "collapsed": false,
    "pycharm": {
     "name": "#%%\n"
    }
   }
  },
  {
   "cell_type": "code",
   "execution_count": 10,
   "outputs": [],
   "source": [
    "ratio = float(desired_size)/max(old_size)\n",
    "new_size = tuple([int(x*ratio) for x in old_size])\n"
   ],
   "metadata": {
    "collapsed": false,
    "pycharm": {
     "name": "#%%\n"
    }
   }
  },
  {
   "cell_type": "code",
   "execution_count": 11,
   "outputs": [],
   "source": [
    "im = im.resize(new_size, Image.ANTIALIAS)\n",
    "# create a new image and paste the resized on it"
   ],
   "metadata": {
    "collapsed": false,
    "pycharm": {
     "name": "#%%\n"
    }
   }
  },
  {
   "cell_type": "code",
   "execution_count": 12,
   "outputs": [],
   "source": [
    "new_im = Image.new(\"RGB\", (desired_size, desired_size))\n",
    "new_im.paste(im, ((desired_size-new_size[0])//2,\n",
    "                    (desired_size-new_size[1])//2))\n"
   ],
   "metadata": {
    "collapsed": false,
    "pycharm": {
     "name": "#%%\n"
    }
   }
  },
  {
   "cell_type": "code",
   "execution_count": 13,
   "outputs": [],
   "source": [
    "new_im.show()"
   ],
   "metadata": {
    "collapsed": false,
    "pycharm": {
     "name": "#%%\n"
    }
   }
  },
  {
   "cell_type": "code",
   "execution_count": 15,
   "outputs": [],
   "source": [
    "from pathlib import Path\n",
    "\n",
    "\n",
    "def resize_and_pad_image(input_path: str,\n",
    "                         output_path: str,\n",
    "                         desired_size: int,\n",
    "                         label: str):\n",
    "    input_path_ = Path(input_path)\n",
    "    output_path_ = Path(output_path)\n",
    "\n",
    "    assert input_path_.is_file()\n",
    "    assert output_path_.is_dir()\n",
    "\n",
    "    if input_path_.stat().st_size > 0:\n",
    "        pass\n",
    "    else:\n",
    "        print(f'Filesize is 0, skipping file: {input_path_}')\n",
    "        return\n",
    "\n",
    "    filename = input_path_.name\n",
    "    img = Image.open(input_path)\n",
    "    old_size = img.size\n",
    "    ratio = float(desired_size)/max(old_size)\n",
    "    new_size = tuple([int(x*ratio) for x in old_size])\n",
    "    img = img.resize(new_size, Image.ANTIALIAS)\n",
    "\n",
    "    # create a new image and paste the resized on it\n",
    "    new_img = Image.new('RGB', (desired_size, desired_size))\n",
    "    new_img.paste(img, ((desired_size-new_size[0])//2,\n",
    "                    (desired_size-new_size[1])//2))\n",
    "\n",
    "    full_output_path = output_path_ / filename\n",
    "    new_img.save(full_output_path)"
   ],
   "metadata": {
    "collapsed": false,
    "pycharm": {
     "name": "#%%\n"
    }
   }
  },
  {
   "cell_type": "code",
   "execution_count": 16,
   "outputs": [],
   "source": [
    "import glob\n",
    "\n",
    "p = r'F:\\temp\\thesisdata\\saatchi_labeled_test\\input'\n",
    "p_o = r'F:\\temp\\thesisdata\\saatchi_labeled_test\\output'\n",
    "\n",
    "for file in glob.glob(p + '*/*'):\n",
    "    resize_and_pad_image(file, p_o, 128)"
   ],
   "metadata": {
    "collapsed": false,
    "pycharm": {
     "name": "#%%\n"
    }
   }
  },
  {
   "cell_type": "code",
   "execution_count": 26,
   "outputs": [
    {
     "data": {
      "text/plain": "{'773302_773302_57823_400598-7.jpg': 'World Culture',\n '402124_402124_314791_210121-7.jpg': 'People',\n '477089_477089_250576_255544-7.jpg': 'World Culture',\n '1408923_1408923_93838_673777-7.jpg': 'Abstract',\n '1538981_1538981_27708_759926-7.jpg': 'Fantasy',\n '1793902_1793902_420619_945833-7.jpg': 'Religious',\n '1845052_1845052_491050_984841-7.jpg': 'Nude',\n '1924631_1924631_40563_1057106-7.jpg': 'Erotic',\n '1983453_1983453_81328_1102289-7.jpg': 'Portrait',\n '2386661_2386661_92802_1456772-7.jpg': 'Children'}"
     },
     "execution_count": 26,
     "metadata": {},
     "output_type": "execute_result"
    }
   ],
   "source": [
    "import csv"
   ],
   "metadata": {
    "collapsed": false,
    "pycharm": {
     "name": "#%%\n"
    }
   }
  },
  {
   "cell_type": "code",
   "execution_count": 32,
   "outputs": [],
   "source": [
    "# Load metadata\n",
    "filenames_and_labels = r'F:\\temp\\thesisdata\\SAATCHI_DATASET_FULL.tsv'\n",
    "delimiter = '\\t'\n",
    "\n",
    "# Create a dict with all filenames and associated labels\n",
    "with open(filenames_and_labels,'rt')as f:\n",
    "    data = list(csv.reader(f, delimiter=delimiter))\n",
    "    file_dict = {}\n",
    "    for row in data:\n",
    "        file_dict.update({row[0]: row[1]})\n",
    "\n",
    "# Create list of sanitized labels to be used as folder names\n",
    "label_folder_list = [s.replace(' ', '_')\n",
    "     .replace('&', '')\n",
    "     .replace('/', '')\n",
    "     .lower()\n",
    " for s in set(file_dict.values())]\n",
    "\n",
    "# Create the folders\n",
    "for l in label_folder_list:\n",
    "    Path(p_o + '/' + l).mkdir(parents=True, exist_ok=True)"
   ],
   "metadata": {
    "collapsed": false,
    "pycharm": {
     "name": "#%%\n"
    }
   }
  },
  {
   "cell_type": "code",
   "execution_count": 33,
   "outputs": [
    {
     "data": {
      "text/plain": "{'Fantasy': 'fantasy',\n 'Erotic': 'erotic',\n 'Children': 'children',\n 'Abstract': 'abstract',\n 'World Culture': 'world_culture',\n 'People': 'people',\n 'Portrait': 'portrait',\n 'Nude': 'nude',\n 'Religious': 'religious'}"
     },
     "execution_count": 33,
     "metadata": {},
     "output_type": "execute_result"
    }
   ],
   "source": [
    "# Create dict for lookup up the correct folder name given a label\n",
    "label_folder_lookup = {}\n",
    "\n",
    "for s in set(file_dict.values()):\n",
    "    label_folder_lookup.update({s: s.replace(' ', '_')\n",
    "     .replace('&', '')\n",
    "     .replace('/', '')\n",
    "     .lower()})\n"
   ],
   "metadata": {
    "collapsed": false,
    "pycharm": {
     "name": "#%%\n"
    }
   }
  },
  {
   "cell_type": "code",
   "execution_count": null,
   "outputs": [],
   "source": [],
   "metadata": {
    "collapsed": false,
    "pycharm": {
     "name": "#%%\n"
    }
   }
  }
 ],
 "metadata": {
  "kernelspec": {
   "display_name": "Python 3",
   "language": "python",
   "name": "python3"
  },
  "language_info": {
   "codemirror_mode": {
    "name": "ipython",
    "version": 2
   },
   "file_extension": ".py",
   "mimetype": "text/x-python",
   "name": "python",
   "nbconvert_exporter": "python",
   "pygments_lexer": "ipython2",
   "version": "2.7.6"
  }
 },
 "nbformat": 4,
 "nbformat_minor": 0
}